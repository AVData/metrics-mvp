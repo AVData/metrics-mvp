{
 "cells": [
  {
   "cell_type": "code",
   "execution_count": 10,
   "metadata": {},
   "outputs": [],
   "source": [
    "import models\n",
    "import bz2\n",
    "import collections\n",
    "import datetime\n",
    "import models.nextbus\n",
    "import models.predictions\n",
    "import seaborn as sns\n",
    "import matplotlib.pyplot as plt\n",
    "from tqdm import tqdm_notebook"
   ]
  },
  {
   "cell_type": "markdown",
   "metadata": {},
   "source": [
    "## Inspecting the data\n",
    "\n",
    "We used `save_predictions.py` to get all the nextbus predictions for some time. Now we inspect the data gathered (in `route_predictions.csv.bz2`) and try to match it to our route data"
   ]
  },
  {
   "cell_type": "code",
   "execution_count": 7,
   "metadata": {},
   "outputs": [],
   "source": [
    "Prediction = collections.namedtuple('Prediction', ['queried_time', 'route_id', 'stop_id',\n",
    "                                                   'vehicle_id', 'dir_tag', 'minutes_to_arrival']\n",
    "                                   )"
   ]
  },
  {
   "cell_type": "code",
   "execution_count": 8,
   "metadata": {
    "scrolled": false
   },
   "outputs": [
    {
     "name": "stdout",
     "output_type": "stream",
     "text": [
      "['queried_time', 'route_id', 'stop_id', 'vehicle_id', 'dir_tag', 'minutes_to_arrival']\n",
      "Prediction(queried_time=1573765603.816431, route_id='E', stop_id=7281, vehicle_id=1006, dir_tag='E____I_F00', minutes_to_arrival=5)\n",
      "Prediction(queried_time=1573765603.816431, route_id='E', stop_id=7281, vehicle_id=1009, dir_tag='E____I_F00', minutes_to_arrival=32)\n",
      "Prediction(queried_time=1573765603.816431, route_id='E', stop_id=7281, vehicle_id=1008, dir_tag='E____I_F00', minutes_to_arrival=52)\n",
      "Prediction(queried_time=1573765603.816431, route_id='E', stop_id=35184, vehicle_id=1011, dir_tag='E____I_F00', minutes_to_arrival=2)\n",
      "Prediction(queried_time=1573765603.816431, route_id='E', stop_id=35184, vehicle_id=1006, dir_tag='E____I_F00', minutes_to_arrival=12)\n",
      "Prediction(queried_time=1573765603.816431, route_id='E', stop_id=35184, vehicle_id=1009, dir_tag='E____I_F00', minutes_to_arrival=39)\n",
      "Prediction(queried_time=1573765603.816431, route_id='E', stop_id=35184, vehicle_id=1008, dir_tag='E____I_F00', minutes_to_arrival=59)\n",
      "Prediction(queried_time=1573765603.816431, route_id='E', stop_id=5239, vehicle_id=1008, dir_tag='E____O_F00', minutes_to_arrival=22)\n",
      "Prediction(queried_time=1573765603.816431, route_id='E', stop_id=3092, vehicle_id=1011, dir_tag='E____O_F00', minutes_to_arrival=8)\n"
     ]
    }
   ],
   "source": [
    "with bz2.open(\"route_predictions.csv.bz2\", \"rt\") as flines:\n",
    "    for i, line in enumerate(flines):\n",
    "        if i == 0:\n",
    "            headers = line.strip().split(\",\")\n",
    "            print(headers)\n",
    "            continue\n",
    "        elif i == 10:\n",
    "            break\n",
    "        else:\n",
    "            data = line.strip().split(\",\")\n",
    "            \n",
    "            prediction = Prediction(float(data[0]), data[1], int(data[2]), int(data[3]), data[4], int(data[5]))\n",
    "            print(prediction)\n"
   ]
  },
  {
   "cell_type": "code",
   "execution_count": null,
   "metadata": {},
   "outputs": [],
   "source": [
    "collection_times = []\n",
    "with bz2.open(\"route_predictions.csv.bz2\", \"rt\") as flines:\n",
    "    for i, line in tqdm_notebook(enumerate(flines)):\n",
    "        if i == 0:\n",
    "            continue\n",
    "        else:\n",
    "            data = line.strip().split(\",\")            \n",
    "#             prediction = Prediction(float(data[0]), sdata[1], int(data[2]), int(data[3]), data[4], int(data[5]))\n",
    "            collection_times.append(float(data[0]))"
   ]
  },
  {
   "cell_type": "code",
   "execution_count": null,
   "metadata": {},
   "outputs": [],
   "source": [
    "collection_times_unique = set(collection_times)"
   ]
  },
  {
   "cell_type": "code",
   "execution_count": null,
   "metadata": {
    "scrolled": true
   },
   "outputs": [],
   "source": [
    "len(collection_times_unique)"
   ]
  },
  {
   "cell_type": "code",
   "execution_count": null,
   "metadata": {},
   "outputs": [],
   "source": [
    "del collection_times"
   ]
  },
  {
   "cell_type": "code",
   "execution_count": null,
   "metadata": {
    "scrolled": true
   },
   "outputs": [],
   "source": [
    "ax = sns.distplot(list(collection_times_unique), rug=True, hist=False)\n"
   ]
  },
  {
   "cell_type": "markdown",
   "metadata": {},
   "source": [
    "\"The time is in msec since the 1970 epoch time.\" "
   ]
  },
  {
   "cell_type": "code",
   "execution_count": null,
   "metadata": {},
   "outputs": [],
   "source": [
    "prev_time  = 0\n",
    "prev_line = \"\"\n",
    "# Lets get the discontinuities, to start mapping what data we've actually got\n",
    "with bz2.open(\"route_predictions.csv.bz2\", \"rt\") as flines:\n",
    "    for i, line in enumerate(flines):\n",
    "        if i == 0:\n",
    "            headers = line.strip().split(\",\")\n",
    "#             print(headers)\n",
    "            continue\n",
    "        else:\n",
    "            data = line.strip().split(\",\")\n",
    "            \n",
    "#             prediction = Prediction(float(data[0]), data[1], int(data[2]), int(data[3]), data[4], int(data[5]))\n",
    "            \n",
    "            new_time = float(data[0])\n",
    "            diff = new_time - prev_time\n",
    "            if diff > 1000:\n",
    "                print(diff)\n",
    "                print(prev_line)\n",
    "                print(i-1)\n",
    "             \n",
    "            prev_time = new_time\n",
    "            prev_line = line"
   ]
  },
  {
   "cell_type": "code",
   "execution_count": null,
   "metadata": {},
   "outputs": [],
   "source": [
    "# These are the timestamps indicating the start of each timeperiod covered\n",
    "timestamp = 1573765603.816431\n",
    "date = datetime.datetime.fromtimestamp(timestamp, tz=None)\n",
    "print(date)\n",
    "timestamp = 1573861398\n",
    "date = datetime.datetime.fromtimestamp(timestamp, tz=None)\n",
    "print(date)\n",
    "timestamp = 1574130445\n",
    "date = datetime.datetime.fromtimestamp(timestamp, tz=None)\n",
    "print(date)\n",
    "\n",
    "timestamp = 1574280582\n",
    "date = datetime.datetime.fromtimestamp(timestamp, tz=None)\n",
    "print(date)\n",
    "\n",
    "timestamp = 1574297973\n",
    "date = datetime.datetime.fromtimestamp(timestamp, tz=None)\n",
    "print(date)"
   ]
  },
  {
   "cell_type": "code",
   "execution_count": null,
   "metadata": {},
   "outputs": [],
   "source": []
  }
 ],
 "metadata": {
  "kernelspec": {
   "display_name": "Python 3",
   "language": "python",
   "name": "python3"
  },
  "language_info": {
   "codemirror_mode": {
    "name": "ipython",
    "version": 3
   },
   "file_extension": ".py",
   "mimetype": "text/x-python",
   "name": "python",
   "nbconvert_exporter": "python",
   "pygments_lexer": "ipython3",
   "version": "3.6.9"
  }
 },
 "nbformat": 4,
 "nbformat_minor": 2
}
